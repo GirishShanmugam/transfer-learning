{
 "cells": [
  {
   "cell_type": "code",
   "execution_count": 2,
   "metadata": {},
   "outputs": [],
   "source": [
    "import pandas as pd\n",
    "import numpy as np"
   ]
  },
  {
   "cell_type": "code",
   "execution_count": 3,
   "metadata": {},
   "outputs": [],
   "source": [
    "winds_df = pd.read_csv('../datasets/tiny-imagenet-200/wnids.txt', sep=\" \", header=None)\n",
    "winds_df.columns = [\"winds\"]"
   ]
  },
  {
   "cell_type": "markdown",
   "metadata": {},
   "source": [
    "## Getting the names for all classes"
   ]
  },
  {
   "cell_type": "code",
   "execution_count": 4,
   "metadata": {},
   "outputs": [],
   "source": [
    "words_winds_df = pd.read_csv('../datasets/tiny-imagenet-200/words.txt', sep=\"\\t\", header=None)\n",
    "words_winds_df.columns = [\"winds\", \"classes\"]"
   ]
  },
  {
   "cell_type": "code",
   "execution_count": 6,
   "metadata": {},
   "outputs": [],
   "source": [
    "tiny_imagenet_classes = pd.merge(words_winds_df, winds_df, how='inner', on=['winds'])"
   ]
  },
  {
   "cell_type": "code",
   "execution_count": 7,
   "metadata": {},
   "outputs": [
    {
     "data": {
      "text/html": [
       "<div>\n",
       "<style scoped>\n",
       "    .dataframe tbody tr th:only-of-type {\n",
       "        vertical-align: middle;\n",
       "    }\n",
       "\n",
       "    .dataframe tbody tr th {\n",
       "        vertical-align: top;\n",
       "    }\n",
       "\n",
       "    .dataframe thead th {\n",
       "        text-align: right;\n",
       "    }\n",
       "</style>\n",
       "<table border=\"1\" class=\"dataframe\">\n",
       "  <thead>\n",
       "    <tr style=\"text-align: right;\">\n",
       "      <th></th>\n",
       "      <th>winds</th>\n",
       "      <th>classes</th>\n",
       "    </tr>\n",
       "  </thead>\n",
       "  <tbody>\n",
       "    <tr>\n",
       "      <th>0</th>\n",
       "      <td>n01443537</td>\n",
       "      <td>goldfish, Carassius auratus</td>\n",
       "    </tr>\n",
       "    <tr>\n",
       "      <th>1</th>\n",
       "      <td>n01629819</td>\n",
       "      <td>European fire salamander, Salamandra salamandra</td>\n",
       "    </tr>\n",
       "    <tr>\n",
       "      <th>2</th>\n",
       "      <td>n01641577</td>\n",
       "      <td>bullfrog, Rana catesbeiana</td>\n",
       "    </tr>\n",
       "    <tr>\n",
       "      <th>3</th>\n",
       "      <td>n01644900</td>\n",
       "      <td>tailed frog, bell toad, ribbed toad, tailed to...</td>\n",
       "    </tr>\n",
       "    <tr>\n",
       "      <th>4</th>\n",
       "      <td>n01698640</td>\n",
       "      <td>American alligator, Alligator mississipiensis</td>\n",
       "    </tr>\n",
       "  </tbody>\n",
       "</table>\n",
       "</div>"
      ],
      "text/plain": [
       "       winds                                            classes\n",
       "0  n01443537                        goldfish, Carassius auratus\n",
       "1  n01629819    European fire salamander, Salamandra salamandra\n",
       "2  n01641577                         bullfrog, Rana catesbeiana\n",
       "3  n01644900  tailed frog, bell toad, ribbed toad, tailed to...\n",
       "4  n01698640      American alligator, Alligator mississipiensis"
      ]
     },
     "execution_count": 7,
     "metadata": {},
     "output_type": "execute_result"
    }
   ],
   "source": [
    "tiny_imagenet_classes.head()"
   ]
  },
  {
   "cell_type": "code",
   "execution_count": 9,
   "metadata": {},
   "outputs": [],
   "source": [
    "tiny_imagenet_classes.to_csv('../datasets/tiny-imagenet-200/class_labels.csv', index=False)"
   ]
  },
  {
   "cell_type": "markdown",
   "metadata": {},
   "source": [
    "## Getting the hierarchy of all classes "
   ]
  },
  {
   "cell_type": "code",
   "execution_count": 76,
   "metadata": {},
   "outputs": [],
   "source": [
    "import nltk\n",
    "from nltk.corpus import wordnet\n",
    "\n",
    "def get_parent(wnid):\n",
    "    parents = None\n",
    "    parents = wnid.hypernyms()\n",
    "    if len(parents)==0:\n",
    "        return None\n",
    "#     elif len(parents)>1:\n",
    "#         print('many to one mapping: {}'.format(str(parents)))\n",
    "    else:\n",
    "        return parents[0]\n",
    "    \n",
    "def get_all_parents(wnid):\n",
    "    hierachy_list = []\n",
    "    parent_wnid = get_parent(wnid)\n",
    "    while parent_wnid:\n",
    "        hierachy_list.append(parent_wnid)\n",
    "        parent_wnid = get_parent(parent_wnid)\n",
    "    \n",
    "    return hierachy_list"
   ]
  },
  {
   "cell_type": "code",
   "execution_count": 77,
   "metadata": {},
   "outputs": [],
   "source": [
    "hierarchy_list = []\n",
    "for index, row in tiny_imagenet_classes.iterrows():\n",
    "    wnid = row['winds']\n",
    "    wnid = int(wnid.strip('n'))\n",
    "    hierarchy = get_all_parents(wn.synset_from_pos_and_offset('n',wnid))\n",
    "    level_list = []\n",
    "    for level in hierarchy:\n",
    "        level_list.append(level.lemma_names())\n",
    "    hierarchy_list.append(level_list)"
   ]
  },
  {
   "cell_type": "code",
   "execution_count": 87,
   "metadata": {},
   "outputs": [
    {
     "data": {
      "text/html": [
       "<div>\n",
       "<style scoped>\n",
       "    .dataframe tbody tr th:only-of-type {\n",
       "        vertical-align: middle;\n",
       "    }\n",
       "\n",
       "    .dataframe tbody tr th {\n",
       "        vertical-align: top;\n",
       "    }\n",
       "\n",
       "    .dataframe thead th {\n",
       "        text-align: right;\n",
       "    }\n",
       "</style>\n",
       "<table border=\"1\" class=\"dataframe\">\n",
       "  <thead>\n",
       "    <tr style=\"text-align: right;\">\n",
       "      <th></th>\n",
       "      <th>winds</th>\n",
       "      <th>classes</th>\n",
       "      <th>0</th>\n",
       "      <th>1</th>\n",
       "      <th>2</th>\n",
       "      <th>3</th>\n",
       "      <th>4</th>\n",
       "      <th>5</th>\n",
       "      <th>6</th>\n",
       "      <th>7</th>\n",
       "      <th>8</th>\n",
       "      <th>9</th>\n",
       "      <th>10</th>\n",
       "      <th>11</th>\n",
       "      <th>12</th>\n",
       "      <th>13</th>\n",
       "      <th>14</th>\n",
       "      <th>15</th>\n",
       "      <th>16</th>\n",
       "    </tr>\n",
       "  </thead>\n",
       "  <tbody>\n",
       "    <tr>\n",
       "      <th>0</th>\n",
       "      <td>n01443537</td>\n",
       "      <td>goldfish, Carassius auratus</td>\n",
       "      <td>[cyprinid, cyprinid_fish]</td>\n",
       "      <td>[cypriniform_fish]</td>\n",
       "      <td>[soft-finned_fish, malacopterygian]</td>\n",
       "      <td>[teleost_fish, teleost, teleostan]</td>\n",
       "      <td>[bony_fish]</td>\n",
       "      <td>[fish]</td>\n",
       "      <td>[aquatic_vertebrate]</td>\n",
       "      <td>[vertebrate, craniate]</td>\n",
       "      <td>[chordate]</td>\n",
       "      <td>[animal, animate_being, beast, brute, creature...</td>\n",
       "      <td>[organism, being]</td>\n",
       "      <td>[living_thing, animate_thing]</td>\n",
       "      <td>[whole, unit]</td>\n",
       "      <td>[object, physical_object]</td>\n",
       "      <td>[physical_entity]</td>\n",
       "      <td>[entity]</td>\n",
       "      <td>None</td>\n",
       "    </tr>\n",
       "    <tr>\n",
       "      <th>1</th>\n",
       "      <td>n01629819</td>\n",
       "      <td>European fire salamander, Salamandra salamandra</td>\n",
       "      <td>[salamander]</td>\n",
       "      <td>[amphibian]</td>\n",
       "      <td>[vertebrate, craniate]</td>\n",
       "      <td>[chordate]</td>\n",
       "      <td>[animal, animate_being, beast, brute, creature...</td>\n",
       "      <td>[organism, being]</td>\n",
       "      <td>[living_thing, animate_thing]</td>\n",
       "      <td>[whole, unit]</td>\n",
       "      <td>[object, physical_object]</td>\n",
       "      <td>[physical_entity]</td>\n",
       "      <td>[entity]</td>\n",
       "      <td>None</td>\n",
       "      <td>None</td>\n",
       "      <td>None</td>\n",
       "      <td>None</td>\n",
       "      <td>None</td>\n",
       "      <td>None</td>\n",
       "    </tr>\n",
       "  </tbody>\n",
       "</table>\n",
       "</div>"
      ],
      "text/plain": [
       "       winds                                          classes  \\\n",
       "0  n01443537                      goldfish, Carassius auratus   \n",
       "1  n01629819  European fire salamander, Salamandra salamandra   \n",
       "\n",
       "                           0                   1  \\\n",
       "0  [cyprinid, cyprinid_fish]  [cypriniform_fish]   \n",
       "1               [salamander]         [amphibian]   \n",
       "\n",
       "                                     2                                   3  \\\n",
       "0  [soft-finned_fish, malacopterygian]  [teleost_fish, teleost, teleostan]   \n",
       "1               [vertebrate, craniate]                          [chordate]   \n",
       "\n",
       "                                                   4                  5  \\\n",
       "0                                        [bony_fish]             [fish]   \n",
       "1  [animal, animate_being, beast, brute, creature...  [organism, being]   \n",
       "\n",
       "                               6                       7  \\\n",
       "0           [aquatic_vertebrate]  [vertebrate, craniate]   \n",
       "1  [living_thing, animate_thing]           [whole, unit]   \n",
       "\n",
       "                           8  \\\n",
       "0                 [chordate]   \n",
       "1  [object, physical_object]   \n",
       "\n",
       "                                                   9                 10  \\\n",
       "0  [animal, animate_being, beast, brute, creature...  [organism, being]   \n",
       "1                                  [physical_entity]           [entity]   \n",
       "\n",
       "                              11             12                         13  \\\n",
       "0  [living_thing, animate_thing]  [whole, unit]  [object, physical_object]   \n",
       "1                           None           None                       None   \n",
       "\n",
       "                  14        15    16  \n",
       "0  [physical_entity]  [entity]  None  \n",
       "1               None      None  None  "
      ]
     },
     "execution_count": 87,
     "metadata": {},
     "output_type": "execute_result"
    }
   ],
   "source": [
    "hierarchy_df = pd.DataFrame(hierarchy_list)\n",
    "hierarchy_df['winds'] = tiny_imagenet_classes['winds']\n",
    "tiny_imagenet_with_hierarchy = pd.merge(tiny_imagenet_classes,hierarchy_df)\n",
    "tiny_imagenet_with_hierarchy.head(2)"
   ]
  },
  {
   "cell_type": "code",
   "execution_count": 88,
   "metadata": {},
   "outputs": [],
   "source": [
    "tiny_imagenet_with_hierarchy.to_csv('../datasets/tiny-imagenet-200/tiny_imagenet_with_hierarchy.csv', index=False)"
   ]
  },
  {
   "cell_type": "code",
   "execution_count": null,
   "metadata": {},
   "outputs": [],
   "source": []
  }
 ],
 "metadata": {
  "kernelspec": {
   "display_name": "Python 3",
   "language": "python",
   "name": "python3"
  },
  "language_info": {
   "codemirror_mode": {
    "name": "ipython",
    "version": 3
   },
   "file_extension": ".py",
   "mimetype": "text/x-python",
   "name": "python",
   "nbconvert_exporter": "python",
   "pygments_lexer": "ipython3",
   "version": "3.7.3"
  }
 },
 "nbformat": 4,
 "nbformat_minor": 2
}
